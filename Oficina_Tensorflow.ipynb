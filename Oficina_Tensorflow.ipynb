{
  "nbformat": 4,
  "nbformat_minor": 0,
  "metadata": {
    "colab": {
      "name": "Oficina Tensorflow.ipynb",
      "provenance": [],
      "collapsed_sections": []
    },
    "kernelspec": {
      "display_name": "Python 3",
      "language": "python",
      "name": "python3"
    },
    "language_info": {
      "codemirror_mode": {
        "name": "ipython",
        "version": 3
      },
      "file_extension": ".py",
      "mimetype": "text/x-python",
      "name": "python",
      "nbconvert_exporter": "python",
      "pygments_lexer": "ipython3",
      "version": "3.6.1"
    }
  },
  "cells": [
    {
      "cell_type": "markdown",
      "metadata": {
        "id": "Di1SHd_Y_qV4"
      },
      "source": [
        "<img src='tensor.png'>"
      ]
    },
    {
      "cell_type": "markdown",
      "metadata": {
        "id": "QjXP6UnZ_qWC"
      },
      "source": [
        "<img src='parcs.png'>"
      ]
    },
    {
      "cell_type": "code",
      "metadata": {
        "collapsed": true,
        "id": "_c6kGgLq6B6R"
      },
      "source": [
        "# importando as bibliotecas\n",
        "import tensorflow as tf\n",
        "from tensorflow import keras\n",
        "import numpy as np"
      ],
      "execution_count": 25,
      "outputs": []
    },
    {
      "cell_type": "code",
      "metadata": {
        "collapsed": true,
        "id": "5ksvsRB16B6c"
      },
      "source": [
        "# importando o dataset\n",
        "# este dataset já está embutido na biblioteca \"keras\"\n",
        "fashion_mnist = keras.datasets.fashion_mnist\n",
        "\n",
        "# separando os dados de treino e teste\n",
        "(train_images, train_labels), (test_images, test_labels) = fashion_mnist.load_data()"
      ],
      "execution_count": 26,
      "outputs": []
    },
    {
      "cell_type": "code",
      "metadata": {
        "colab": {
          "base_uri": "https://localhost:8080/"
        },
        "id": "aevxZgo26B6j",
        "outputId": "e91609d5-e74a-4603-98eb-7d23aae5a43d"
      },
      "source": [
        "# verificando o tamanho da base de treino - tensor 3D\n",
        "train_images.shape # 60000 elementos de matrizes de 28 por 28"
      ],
      "execution_count": 27,
      "outputs": [
        {
          "output_type": "execute_result",
          "data": {
            "text/plain": [
              "(60000, 28, 28)"
            ]
          },
          "metadata": {
            "tags": []
          },
          "execution_count": 27
        }
      ]
    },
    {
      "cell_type": "code",
      "metadata": {
        "colab": {
          "base_uri": "https://localhost:8080/"
        },
        "id": "84Cf91vr6B6n",
        "outputId": "86aceb8b-1de7-4385-8ebe-3860c317e096"
      },
      "source": [
        "# verificando a quantidade de rótulos de treino\n",
        "len(train_labels)"
      ],
      "execution_count": 28,
      "outputs": [
        {
          "output_type": "execute_result",
          "data": {
            "text/plain": [
              "60000"
            ]
          },
          "metadata": {
            "tags": []
          },
          "execution_count": 28
        }
      ]
    },
    {
      "cell_type": "code",
      "metadata": {
        "colab": {
          "base_uri": "https://localhost:8080/"
        },
        "id": "bQI68dl56B6r",
        "outputId": "c87eaa8a-800a-42cd-eea9-d9b33166846b"
      },
      "source": [
        "# verificando os rótulos da base de treino\n",
        "np.unique(train_labels)"
      ],
      "execution_count": 29,
      "outputs": [
        {
          "output_type": "execute_result",
          "data": {
            "text/plain": [
              "array([0, 1, 2, 3, 4, 5, 6, 7, 8, 9], dtype=uint8)"
            ]
          },
          "metadata": {
            "tags": []
          },
          "execution_count": 29
        }
      ]
    },
    {
      "cell_type": "code",
      "metadata": {
        "colab": {
          "base_uri": "https://localhost:8080/"
        },
        "id": "bxPD-Au-6B6v",
        "outputId": "cc8e78af-3167-4159-ff0f-2214e89f8f10"
      },
      "source": [
        "# verificando também o tamanho da base de teste - tensor 3D\n",
        "test_images.shape # 10000 elementos de matrizes de 28 por 28"
      ],
      "execution_count": 30,
      "outputs": [
        {
          "output_type": "execute_result",
          "data": {
            "text/plain": [
              "(10000, 28, 28)"
            ]
          },
          "metadata": {
            "tags": []
          },
          "execution_count": 30
        }
      ]
    },
    {
      "cell_type": "code",
      "metadata": {
        "colab": {
          "base_uri": "https://localhost:8080/"
        },
        "id": "b42JxOQn6B60",
        "outputId": "53000430-72bd-4825-8f1b-3ee794c9daeb"
      },
      "source": [
        "# verificando a quantidade de rótulos na base de teste\n",
        "len(test_labels)"
      ],
      "execution_count": 31,
      "outputs": [
        {
          "output_type": "execute_result",
          "data": {
            "text/plain": [
              "10000"
            ]
          },
          "metadata": {
            "tags": []
          },
          "execution_count": 31
        }
      ]
    },
    {
      "cell_type": "code",
      "metadata": {
        "colab": {
          "base_uri": "https://localhost:8080/"
        },
        "id": "9JZ0l1ph6B64",
        "outputId": "cb7ef861-88e9-4dd7-b8a2-da93641f4a3a"
      },
      "source": [
        "# verificando os rótulos de teste\n",
        "# por questão de limitação de espaço (total de 10.000)\n",
        "# é somente exibido os três primeiros e três últimos rótulos de teste\n",
        "test_labels"
      ],
      "execution_count": 32,
      "outputs": [
        {
          "output_type": "execute_result",
          "data": {
            "text/plain": [
              "array([9, 2, 1, ..., 8, 1, 5], dtype=uint8)"
            ]
          },
          "metadata": {
            "tags": []
          },
          "execution_count": 32
        }
      ]
    },
    {
      "cell_type": "code",
      "metadata": {
        "collapsed": true,
        "id": "L3SKeNvS6B7D"
      },
      "source": [
        "# as imagens de treino e teste é composta por matriz de 28 por 28\n",
        "# e cada um desses elementos da matriz é exatamente um pixel entre 0 e 255\n",
        "# sendo 0 ausência de cor e 255 máxima intensidade de cor\n",
        "# e alguns modelos, tais como a regressão linear e as próprias redes neurais, eles se beneficiam de atributos escalados\n",
        "# eles utilizam uma técnica de gradiente para otimização - uma derivada\n",
        "\n",
        "# transformando nossa imagem em escala pequena\n",
        "# como nossa imagem tem entre 0 e 255 pixels\n",
        "# então podemos dividir a matriz \n",
        "# portanto o pixel com maior intensidade de 255 será igual 1\n",
        "# de menor intensidade que é 0 continuará sendo 0\n",
        "# e os de intensidade intermediária estará entre 0 e 1\n",
        "# dessa forma, implicitamente estamos utilizando o \"MinMaxScaller\" sem chamá-lo\n",
        "\n",
        "train_images = train_images / 255.0 # imagens de treino\n",
        "\n",
        "test_images = test_images / 255.0 # imagens de teste"
      ],
      "execution_count": 33,
      "outputs": []
    },
    {
      "cell_type": "code",
      "metadata": {
        "colab": {
          "base_uri": "https://localhost:8080/"
        },
        "id": "FZ21TQ4O6B7J",
        "outputId": "0ca9d62b-7328-442d-b274-83061685f6bd"
      },
      "source": [
        "# instanciando o modelo e sua arquitetura\n",
        "model = keras.Sequential([\n",
        "                          keras.layers.Flatten(input_shape=(28, 28)),\n",
        "                          keras.layers.Dense(50, activation=tf.nn.relu), # camada intermediário de 50 neurônios\n",
        "                          keras.layers.Dense(10, activation=tf.nn.softmax) # camada de saída de 10 neurônios\n",
        "                          # a última camada é exatemente a quantidade de classes presente no conjunto de dados\n",
        "])\n",
        "\n",
        "# dados sumarizados do modelo\n",
        "# mostra quantos pesos tem a rede neural e a estrutura do mesmo e suas camadas\n",
        "model.summary()"
      ],
      "execution_count": 34,
      "outputs": [
        {
          "output_type": "stream",
          "text": [
            "Model: \"sequential_2\"\n",
            "_________________________________________________________________\n",
            "Layer (type)                 Output Shape              Param #   \n",
            "=================================================================\n",
            "flatten_2 (Flatten)          (None, 784)               0         \n",
            "_________________________________________________________________\n",
            "dense_4 (Dense)              (None, 50)                39250     \n",
            "_________________________________________________________________\n",
            "dense_5 (Dense)              (None, 10)                510       \n",
            "=================================================================\n",
            "Total params: 39,760\n",
            "Trainable params: 39,760\n",
            "Non-trainable params: 0\n",
            "_________________________________________________________________\n"
          ],
          "name": "stdout"
        }
      ]
    },
    {
      "cell_type": "code",
      "metadata": {
        "collapsed": true,
        "id": "2YLI-l8B6B7N"
      },
      "source": [
        "# compilando o modelo com a função \"compile\"\n",
        "model.compile(optimizer='adam', # otimizador para os pesos de treinamento\n",
        "              loss='sparse_categorical_crossentropy', # métrica de erro -entropia cruzada categórica esparsa\n",
        "              metrics=['accuracy']) # porcentagem de elementos classificados corretamente sobre o total"
      ],
      "execution_count": 35,
      "outputs": []
    },
    {
      "cell_type": "code",
      "metadata": {
        "colab": {
          "base_uri": "https://localhost:8080/"
        },
        "id": "cBGct1Ij6B7R",
        "outputId": "d2e2bbf0-21b5-4343-a4ef-397706dd6065"
      },
      "source": [
        "# aplicando o treinamento do modelo e avaliando sua acurácia por épocas\n",
        "model.fit(train_images, train_labels, epochs=5) # 5 épocas de treinamento - iterações"
      ],
      "execution_count": 36,
      "outputs": [
        {
          "output_type": "stream",
          "text": [
            "Epoch 1/5\n",
            "1875/1875 [==============================] - 3s 1ms/step - loss: 0.7022 - accuracy: 0.7563\n",
            "Epoch 2/5\n",
            "1875/1875 [==============================] - 2s 1ms/step - loss: 0.4149 - accuracy: 0.8546\n",
            "Epoch 3/5\n",
            "1875/1875 [==============================] - 2s 1ms/step - loss: 0.3738 - accuracy: 0.8655\n",
            "Epoch 4/5\n",
            "1875/1875 [==============================] - 2s 1ms/step - loss: 0.3502 - accuracy: 0.8753\n",
            "Epoch 5/5\n",
            "1875/1875 [==============================] - 2s 1ms/step - loss: 0.3266 - accuracy: 0.8826\n"
          ],
          "name": "stdout"
        },
        {
          "output_type": "execute_result",
          "data": {
            "text/plain": [
              "<tensorflow.python.keras.callbacks.History at 0x7fe26467fe90>"
            ]
          },
          "metadata": {
            "tags": []
          },
          "execution_count": 36
        }
      ]
    },
    {
      "cell_type": "code",
      "metadata": {
        "colab": {
          "base_uri": "https://localhost:8080/"
        },
        "id": "epEc3-yGHNhM",
        "outputId": "a4e5b4fa-8446-41dd-d6f6-c3c629edacc9"
      },
      "source": [
        "# avaliando ganho de acurácia - início e fim\n",
        "epoch_1 = 0.7563\n",
        "epoch_5 = 0.8826\n",
        "\n",
        "total = (epoch_5 / epoch_1) - 1\n",
        "total "
      ],
      "execution_count": 53,
      "outputs": [
        {
          "output_type": "execute_result",
          "data": {
            "text/plain": [
              "0.16699722332407796"
            ]
          },
          "metadata": {
            "tags": []
          },
          "execution_count": 53
        }
      ]
    },
    {
      "cell_type": "markdown",
      "metadata": {
        "id": "xTBzNnSTIrC5"
      },
      "source": [
        "**Perceba que, da época 1 para 5, houve um ganho de aproximadamente de 17% de acurácia**"
      ]
    },
    {
      "cell_type": "code",
      "metadata": {
        "colab": {
          "base_uri": "https://localhost:8080/"
        },
        "id": "m_XoCgZx6B7X",
        "outputId": "a7ee4682-d4fd-4e9a-9ad6-ecb02add189a"
      },
      "source": [
        "# avaliando acurácia sobre os dados de teste\n",
        "test_loss, test_acc = model.evaluate(test_images, test_labels)\n",
        "\n",
        "# imprimindo acurácia do teste\n",
        "print('Test accuracy:', test_acc)"
      ],
      "execution_count": 54,
      "outputs": [
        {
          "output_type": "stream",
          "text": [
            "313/313 [==============================] - 0s 906us/step - loss: 0.3720 - accuracy: 0.8681\n",
            "Test accuracy: 0.8680999875068665\n"
          ],
          "name": "stdout"
        }
      ]
    },
    {
      "cell_type": "code",
      "metadata": {
        "collapsed": true,
        "id": "831mHUzm6B7e"
      },
      "source": [
        "# criando uma variável para avaliar a predição para cada uma das imagens de teste \n",
        "predictions = model.predict(test_images)"
      ],
      "execution_count": 55,
      "outputs": []
    },
    {
      "cell_type": "code",
      "metadata": {
        "colab": {
          "base_uri": "https://localhost:8080/"
        },
        "id": "VKWN75Op6B7h",
        "outputId": "acd7a14b-e795-470d-eb9c-392dc28a0590"
      },
      "source": [
        "# imprimindo a primeira predição\n",
        "predictions[0] # um array de 10 elementos com notações científicas\n",
        "# onde a classificação será dada com a maior valor das predições"
      ],
      "execution_count": 56,
      "outputs": [
        {
          "output_type": "execute_result",
          "data": {
            "text/plain": [
              "array([5.1439947e-05, 6.6628473e-08, 1.6260406e-05, 5.1671004e-06,\n",
              "       2.0649744e-05, 2.7065206e-02, 9.9685945e-05, 7.3109046e-02,\n",
              "       1.1877426e-03, 8.9844465e-01], dtype=float32)"
            ]
          },
          "metadata": {
            "tags": []
          },
          "execution_count": 56
        }
      ]
    },
    {
      "cell_type": "code",
      "metadata": {
        "colab": {
          "base_uri": "https://localhost:8080/"
        },
        "id": "kaStAfhm6B7o",
        "outputId": "1ac49488-776c-43ef-e987-d83a2fc4b108"
      },
      "source": [
        "# verificando o índice máximo\n",
        "np.argmax(predictions[0]) # temos a classe \"9\""
      ],
      "execution_count": 57,
      "outputs": [
        {
          "output_type": "execute_result",
          "data": {
            "text/plain": [
              "9"
            ]
          },
          "metadata": {
            "tags": []
          },
          "execution_count": 57
        }
      ]
    },
    {
      "cell_type": "code",
      "metadata": {
        "colab": {
          "base_uri": "https://localhost:8080/"
        },
        "id": "_JNGtaUf6B7t",
        "outputId": "b736fb40-7ce9-4472-ecdd-7eb26d430fe9"
      },
      "source": [
        "# avaliando a assertividade do modelo\n",
        "test_labels[0]\n",
        "# para a primeira imagem o modelo acertou"
      ],
      "execution_count": 58,
      "outputs": [
        {
          "output_type": "execute_result",
          "data": {
            "text/plain": [
              "9"
            ]
          },
          "metadata": {
            "tags": []
          },
          "execution_count": 58
        }
      ]
    },
    {
      "cell_type": "code",
      "metadata": {
        "colab": {
          "base_uri": "https://localhost:8080/"
        },
        "id": "9PRNwJjx6B8D",
        "outputId": "b8b47660-497a-44ea-e04b-af171a3fd58f"
      },
      "source": [
        "# realizando uma avaliação separada - individual de cada uma das imagens\n",
        "img = test_images[0] # instanciando a imagem de teste [0] na variável \"img\"\n",
        "\n",
        "# imprimindo o shape da imagem - 28 x 28 \n",
        "print(img.shape)"
      ],
      "execution_count": 59,
      "outputs": [
        {
          "output_type": "stream",
          "text": [
            "(28, 28)\n"
          ],
          "name": "stdout"
        }
      ]
    },
    {
      "cell_type": "code",
      "metadata": {
        "colab": {
          "base_uri": "https://localhost:8080/"
        },
        "id": "rgAEBBvr6B8H",
        "outputId": "b384f2ff-c517-4d36-b4e4-7232a645fc27"
      },
      "source": [
        "# o modelo espera um vetor de imagem que seja passado e, aqui só temos uma imagem sozinha\n",
        "# iremos utlizar o numpy para expandir a dimensão dessa imagem para ter um vetor \n",
        "img = (np.expand_dims(img,0)) # a função \"expand_dims\" irar expandir a dimensão da imagem colocando dentro de um novo vetor\n",
        "\n",
        "# imprimindo o shape do vetor\n",
        "print(img.shape)"
      ],
      "execution_count": 60,
      "outputs": [
        {
          "output_type": "stream",
          "text": [
            "(1, 28, 28)\n"
          ],
          "name": "stdout"
        }
      ]
    },
    {
      "cell_type": "code",
      "metadata": {
        "colab": {
          "base_uri": "https://localhost:8080/"
        },
        "id": "kBd9iSvk6B8L",
        "outputId": "8cd4da46-28b6-49ac-a43d-b5ec7530c40d"
      },
      "source": [
        "# aplicando essa nova imagem de vetor ao modelo\n",
        "predictions_single = model.predict(img) # instanciando a predição da única imagem na variável \"predictions_single\"\n",
        "\n",
        "# imprimindo a variável \"predictions_single\" com o valor das predições\n",
        "print(predictions_single)"
      ],
      "execution_count": 61,
      "outputs": [
        {
          "output_type": "stream",
          "text": [
            "[[5.1439849e-05 6.6628346e-08 1.6260377e-05 5.1670954e-06 2.0649724e-05\n",
            "  2.7065217e-02 9.9685851e-05 7.3109061e-02 1.1877432e-03 8.9844465e-01]]\n"
          ],
          "name": "stdout"
        }
      ]
    },
    {
      "cell_type": "code",
      "metadata": {
        "colab": {
          "base_uri": "https://localhost:8080/"
        },
        "id": "buMojq1B6B8S",
        "outputId": "0103fd8e-3f4e-4a47-ad27-d3e0b28c198e"
      },
      "source": [
        "# efetuando a predição\n",
        "# retornará o rótulo da primeira imagem\n",
        "np.argmax(predictions_single[0])"
      ],
      "execution_count": 62,
      "outputs": [
        {
          "output_type": "execute_result",
          "data": {
            "text/plain": [
              "9"
            ]
          },
          "metadata": {
            "tags": []
          },
          "execution_count": 62
        }
      ]
    }
  ]
}